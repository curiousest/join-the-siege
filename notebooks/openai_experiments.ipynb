{
 "cells": [
  {
   "cell_type": "code",
   "execution_count": 23,
   "id": "2213f910-df45-4305-bfcd-4ba849d7018d",
   "metadata": {},
   "outputs": [],
   "source": [
    "import os\n",
    "from openai import OpenAI\n",
    "\n",
    "PROJECT_ID = \"proj_hUizl3mrZGSfmp4C6DI60dJo\"\n",
    "client = OpenAI(\n",
    "    # This is the default and can be omitted\n",
    "    api_key=os.environ.get(\"OPENAI_API_KEY\"),\n",
    ")\n",
    "model = 'gpt-4o-mini'"
   ]
  },
  {
   "cell_type": "code",
   "execution_count": 8,
   "id": "38e22705-bd3c-444c-a150-f75dcfcc2f09",
   "metadata": {},
   "outputs": [
    {
     "name": "stdout",
     "output_type": "stream",
     "text": [
      "Bank 1 of Testing\n",
      "Customer Support: 1-800-555-1234\n",
      "www.fakebankdomain.com\n",
      "Account Holder: John Doe 1\n",
      "Account Number: XXXX-XXXX-XXXX-6781\n",
      "Statement Period: 2023-01\n",
      "Date Description Debit ($) Credit ($)\n",
      "01/01/2023 Direct Deposit 326.73\n",
      "20/01/2023 Direct Deposit 424.61\n",
      "04/01/2023 ACH Payment 215.70\n",
      "03/01/2023 Check Deposit 464.84\n",
      "20/01/2023 Debit Card Purchase 695.38\n",
      "04/01/2023 POS Purchase 136.10\n",
      "27/01/2023 Online Transfer 285.34\n",
      "05/01/2023 ACH Payment 436.96\n",
      "16/01/2023 POS Purchase 203.32\n",
      "15/01/2023 POS Purchase 613.07\n",
      "28/01/2023 POS Purchase 189.97\n",
      "07/01/2023 Debit Card Purchase 65.51\n",
      "08/01/2023 Check Deposit 592.13\n",
      "20/01/2023 Debit Card Purchase 289.50\n",
      "28/01/2023 POS Purchase 10.44\n",
      "24/01/2023 Loan Repayment 541.03\n",
      "Bank 1 - Confidential Statement | Page 1Bank 1 of Testing\n",
      "Customer Support: 1-800-555-1234\n",
      "www.fakebankdomain.com\n",
      "End of Statement\n",
      "Bank 1 - Confidential Statement | Page 2\n"
     ]
    }
   ],
   "source": [
    "import pypdf\n",
    "\n",
    "document_filename = \"../tests/data/bank_statement_1.pdf\"\n",
    "\n",
    "bank_statement_text = \"\"\n",
    "with open(document_filename, \"rb\") as pdf_file:\n",
    "    read_pdf = pypdf.PdfReader(pdf_file)\n",
    "    for page in read_pdf.pages:\n",
    "        bank_statement_text += page.extract_text()\n",
    "\n",
    "print(bank_statement_text)\n",
    "with open(\"../tests/data/bank_statement_1.txt\", 'w') as f:\n",
    "    f.write(bank_statement_text)"
   ]
  },
  {
   "cell_type": "code",
   "execution_count": 9,
   "id": "526e99ea-bc54-4d0f-beac-da267848c0a9",
   "metadata": {},
   "outputs": [
    {
     "name": "stdout",
     "output_type": "stream",
     "text": [
      " \n",
      " \n",
      " \n",
      " \n",
      " \n",
      "Company Name Customer Company Name \n",
      "Address Contact Name \n",
      "Phone  Address \n",
      "Email Phone \n",
      "Website Email \n",
      " \n",
      " \n",
      "Invoice Number: 1234 Issue Date: Date Expiry Date: Date \n",
      " \n",
      " \n",
      "Item # Description Quantity Unit Price Total \n",
      "     \n",
      "     \n",
      "     \n",
      "     \n",
      "     \n",
      "     \n",
      "     \n",
      "     \n",
      " \n",
      " Subtotal  \n",
      " Tax  \n",
      " \n",
      " TOTAL  \n",
      " \n",
      " I N V O I C E \n"
     ]
    }
   ],
   "source": [
    "document_filename = \"../files/invoice_1.pdf\"\n",
    "\n",
    "invoice_text = \"\"\n",
    "with open(document_filename, \"rb\") as pdf_file:\n",
    "    read_pdf = pypdf.PdfReader(pdf_file)\n",
    "    for page in read_pdf.pages:\n",
    "        invoice_text += page.extract_text()\n",
    "\n",
    "print(invoice_text)\n",
    "with open(\"../tests/data/invoice_1.txt\", 'w') as f:\n",
    "    f.write(invoice_text)"
   ]
  },
  {
   "cell_type": "code",
   "execution_count": 11,
   "id": "b66af4f3-3267-4f4b-8f16-49d3a1ba160b",
   "metadata": {},
   "outputs": [
    {
     "name": "stdout",
     "output_type": "stream",
     "text": [
      "(ANY STATE\n",
      "\n",
      "DRIVER LICENSE\n",
      "\n",
      "License No. P99999999 Expires 00-00-00\n",
      "\n",
      "JOE A SAMPLE\n",
      "123 ANY STREET\n",
      "ANYTOWN, ANY STATE 99999\n",
      "4 Sex: M Hair: Black\n",
      "Ht: 6-03 Wt: 200\n",
      "\n",
      "Eyes: Brown DOB: 01-01-81 ©\n",
      "\n",
      "\n"
     ]
    }
   ],
   "source": [
    "import pytesseract\n",
    "from PIL import Image\n",
    "\n",
    "image_path = \"../files/drivers_license_1.jpg\"\n",
    "image = Image.open(image_path)\n",
    "drivers_licence_text = pytesseract.image_to_string(image)\n",
    "\n",
    "print(drivers_licence_text)\n",
    "with open(\"../tests/data/drivers_licence_1.txt\", 'w') as f:\n",
    "    f.write(drivers_licence_text)"
   ]
  },
  {
   "cell_type": "code",
   "execution_count": 42,
   "id": "bffe5a1f-18e2-4924-9995-ee125dd86fdb",
   "metadata": {},
   "outputs": [],
   "source": [
    "few_shot_prompt = f\"\"\"\n",
    "You are an AI model that classifies extracted text from documents into four categories: \"bank statement,\" \"invoice,\" \"driver license,\" or \"unknown.\" Below are examples of text for each type (except for \"unknown\"). Use these examples to classify new inputs. Your response should be in JSON format, indicating the type of document.\n",
    "\n",
    "**Examples:**\n",
    "\n",
    "1. **Example 1: Bank Statement**\n",
    "   {bank_statement_text}\n",
    "\n",
    "   **Output:**\n",
    "   {{\n",
    "     \"type\": \"bank statement\"\n",
    "   }}\n",
    "\n",
    "2. **Example 2: Invoice**\n",
    "   {invoice_text}\n",
    "\n",
    "   **Output:**\n",
    "   {{\n",
    "     \"type\": \"invoice\"\n",
    "   }}\n",
    "\n",
    "3. **Example 3: Driver License**\n",
    "   {drivers_licence_text}\n",
    "\n",
    "   **Output:**\n",
    "   {{\n",
    "     \"type\": \"driver license\"\n",
    "   }}\n",
    "\"\"\""
   ]
  },
  {
   "cell_type": "code",
   "execution_count": 45,
   "id": "d7e1a3fb-fff9-40e4-a435-ba0209c2f28b",
   "metadata": {},
   "outputs": [],
   "source": [
    "import json\n",
    "from pydantic import BaseModel\n",
    "\n",
    "class StatementClassification(BaseModel):\n",
    "    type: str\n",
    "class CustomException(Exception):\n",
    "    pass\n",
    "def classify_document_fewshot_openai(text):\n",
    "    messages = []\n",
    "    messages.append({\n",
    "        \"role\": \"system\",\n",
    "        \"content\": few_shot_prompt\n",
    "    })\n",
    "    \n",
    "    messages.append({\n",
    "        \"role\": \"user\",\n",
    "        \"content\": \"Classify the following text:\\n\" + text\n",
    "        })\n",
    "    try:\n",
    "        response = client.beta.chat.completions.parse(model=model, messages=messages, response_format=StatementClassification)\n",
    "    except Exception as e:\n",
    "        raise CustomException(\"OpenAI call failed\") from e\n",
    "\n",
    "    print(response.choices[0].message)\n",
    "\n",
    "    try:\n",
    "        output = response.choices[0].message.parsed\n",
    "        #structured_output = json.loads(output)['type'].lower()\n",
    "    except Exception as e:\n",
    "        raise CustomException(\"OpenAI formatting incorrect\", response) from e\n",
    "\n",
    "    if output in ['bank statement', 'invoice', 'driver licence', 'unknown']:\n",
    "        return output\n",
    "    else:\n",
    "        print(output)\n",
    "    return \"unknown\"\n",
    "    "
   ]
  },
  {
   "cell_type": "code",
   "execution_count": 46,
   "id": "2b5dac4e-38b1-43c8-928a-a3e5352739c7",
   "metadata": {},
   "outputs": [
    {
     "name": "stdout",
     "output_type": "stream",
     "text": [
      "ParsedChatCompletionMessage[StatementClassification](content='{\\n  \"type\": \"bank statement\"\\n}', refusal=None, role='assistant', audio=None, function_call=None, tool_calls=[], parsed=StatementClassification(type='bank statement'))\n",
      "type='bank statement'\n",
      "unknown\n"
     ]
    }
   ],
   "source": [
    "result = classify_document_fewshot_openai(bank_statement_text)\n",
    "print(result)"
   ]
  },
  {
   "cell_type": "code",
   "execution_count": null,
   "id": "4df9f5da-5ac6-4a10-b5e5-99da9a1a4140",
   "metadata": {},
   "outputs": [],
   "source": []
  }
 ],
 "metadata": {
  "kernelspec": {
   "display_name": "Python 3 (ipykernel)",
   "language": "python",
   "name": "python3"
  },
  "language_info": {
   "codemirror_mode": {
    "name": "ipython",
    "version": 3
   },
   "file_extension": ".py",
   "mimetype": "text/x-python",
   "name": "python",
   "nbconvert_exporter": "python",
   "pygments_lexer": "ipython3",
   "version": "3.12.0"
  }
 },
 "nbformat": 4,
 "nbformat_minor": 5
}
