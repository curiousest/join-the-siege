{
 "cells": [
  {
   "cell_type": "code",
   "execution_count": 4,
   "id": "6cc0e574-a2f6-433a-aeaa-2c41b77c4d94",
   "metadata": {},
   "outputs": [],
   "source": [
    "import spacy\n",
    "from transformers import AutoTokenizer, AutoModel\n",
    "import torch\n",
    "import numpy as np\n",
    "from sklearn.linear_model import LogisticRegression\n",
    "from sklearn.model_selection import train_test_split\n",
    "from sklearn.metrics import classification_report\n",
    "\n",
    "# Load spaCy model for preprocessing\n",
    "nlp = spacy.load(\"en_core_web_sm\")\n",
    "\n",
    "# Load Hugging Face model and tokenizer (using DistilBERT for simplicity)\n",
    "tokenizer = AutoTokenizer.from_pretrained(\"distilbert-base-uncased\")\n",
    "model = AutoModel.from_pretrained(\"distilbert-base-uncased\")"
   ]
  },
  {
   "cell_type": "code",
   "execution_count": 5,
   "id": "3e849cef-c352-43c5-a894-cb01f89d0cfd",
   "metadata": {},
   "outputs": [],
   "source": [
    "# Function to preprocess text using spaCy\n",
    "def preprocess_text_spacy(text):\n",
    "    doc = nlp(text)\n",
    "    tokens = [token.text for token in doc if not token.is_stop and not token.is_punct]\n",
    "    entities = [(ent.text, ent.label_) for ent in doc.ents]\n",
    "    return \" \".join(tokens), entities\n",
    "\n",
    "# Function to generate BERT embeddings\n",
    "def get_embeddings(text):\n",
    "    inputs = tokenizer(text, return_tensors=\"pt\", truncation=True, max_length=512, padding=True)\n",
    "    with torch.no_grad():\n",
    "        outputs = model(**inputs)\n",
    "    # Use the mean of the last hidden state as the embedding\n",
    "    embeddings = torch.mean(outputs.last_hidden_state, dim=1).squeeze().numpy()\n",
    "    return embeddings"
   ]
  },
  {
   "cell_type": "code",
   "execution_count": 6,
   "id": "67b8c735-015f-4060-beef-0bc065652727",
   "metadata": {},
   "outputs": [
    {
     "name": "stdout",
     "output_type": "stream",
     "text": [
      "                precision    recall  f1-score   support\n",
      "\n",
      "bank statement       0.00      0.00      0.00       1.0\n",
      "       invoice       0.00      0.00      0.00       0.0\n",
      "\n",
      "      accuracy                           0.00       1.0\n",
      "     macro avg       0.00      0.00      0.00       1.0\n",
      "  weighted avg       0.00      0.00      0.00       1.0\n",
      "\n",
      "{'type': 'invoice', 'confidence': 'high', 'entities': [('987654321', 'CARDINAL'), ('2024-03-25', 'DATE'), ('3,000.00', 'MONEY'), ('8,500.00', 'MONEY')]}\n"
     ]
    },
    {
     "name": "stderr",
     "output_type": "stream",
     "text": [
      "/Users/douglashindson/workspace/join-the-siege/.venv/lib/python3.12/site-packages/sklearn/metrics/_classification.py:1531: UndefinedMetricWarning: Precision is ill-defined and being set to 0.0 in labels with no predicted samples. Use `zero_division` parameter to control this behavior.\n",
      "  _warn_prf(average, modifier, f\"{metric.capitalize()} is\", len(result))\n",
      "/Users/douglashindson/workspace/join-the-siege/.venv/lib/python3.12/site-packages/sklearn/metrics/_classification.py:1531: UndefinedMetricWarning: Recall is ill-defined and being set to 0.0 in labels with no true samples. Use `zero_division` parameter to control this behavior.\n",
      "  _warn_prf(average, modifier, f\"{metric.capitalize()} is\", len(result))\n",
      "/Users/douglashindson/workspace/join-the-siege/.venv/lib/python3.12/site-packages/sklearn/metrics/_classification.py:1531: UndefinedMetricWarning: Precision is ill-defined and being set to 0.0 in labels with no predicted samples. Use `zero_division` parameter to control this behavior.\n",
      "  _warn_prf(average, modifier, f\"{metric.capitalize()} is\", len(result))\n",
      "/Users/douglashindson/workspace/join-the-siege/.venv/lib/python3.12/site-packages/sklearn/metrics/_classification.py:1531: UndefinedMetricWarning: Recall is ill-defined and being set to 0.0 in labels with no true samples. Use `zero_division` parameter to control this behavior.\n",
      "  _warn_prf(average, modifier, f\"{metric.capitalize()} is\", len(result))\n",
      "/Users/douglashindson/workspace/join-the-siege/.venv/lib/python3.12/site-packages/sklearn/metrics/_classification.py:1531: UndefinedMetricWarning: Precision is ill-defined and being set to 0.0 in labels with no predicted samples. Use `zero_division` parameter to control this behavior.\n",
      "  _warn_prf(average, modifier, f\"{metric.capitalize()} is\", len(result))\n",
      "/Users/douglashindson/workspace/join-the-siege/.venv/lib/python3.12/site-packages/sklearn/metrics/_classification.py:1531: UndefinedMetricWarning: Recall is ill-defined and being set to 0.0 in labels with no true samples. Use `zero_division` parameter to control this behavior.\n",
      "  _warn_prf(average, modifier, f\"{metric.capitalize()} is\", len(result))\n"
     ]
    }
   ],
   "source": [
    "# Prepare training data (mock data for illustration)\n",
    "documents = [\n",
    "    \"Account Number: 123456789, Transaction Date: 2024-03-15, Description: Online transfer, Amount: $500.00, Balance: $1,500.00\",  # Bank statement\n",
    "    \"Invoice Number: INV-4567, Date: 2024-02-20, Billed To: Jane Doe, Total Amount: $2,000.00, Due Date: 2024-03-15\",  # Invoice\n",
    "    \"Name: John Smith, License Number: S123456789, Date of Birth: 1990-05-10, Expiry Date: 2026-05-10, Issuing State: California\"  # Driver's license\n",
    "]\n",
    "labels = [\"bank statement\", \"invoice\", \"driver's license\"]  # Corresponding labels\n",
    "\n",
    "# Extract features for training\n",
    "X = []\n",
    "y = labels\n",
    "for doc in documents:\n",
    "    cleaned_text, _ = preprocess_text_spacy(doc)\n",
    "    embeddings = get_embeddings(cleaned_text)\n",
    "    X.append(embeddings)\n",
    "\n",
    "# Convert to numpy array\n",
    "X = np.array(X)\n",
    "\n",
    "# Train-test split\n",
    "X_train, X_test, y_train, y_test = train_test_split(X, y, test_size=0.2, random_state=42)\n",
    "\n",
    "# Train a simple classifier\n",
    "clf = LogisticRegression(max_iter=1000)\n",
    "clf.fit(X_train, y_train)\n",
    "\n",
    "# Predict on test set\n",
    "y_pred = clf.predict(X_test)\n",
    "\n",
    "# Print classification report\n",
    "print(classification_report(y_test, y_pred))\n",
    "\n",
    "# Function to classify new documents\n",
    "def classify_document(text):\n",
    "    cleaned_text, entities = preprocess_text_spacy(text)\n",
    "    embeddings = get_embeddings(cleaned_text)\n",
    "    classification = clf.predict([embeddings])[0]\n",
    "\n",
    "    return {\n",
    "        \"type\": classification,\n",
    "        \"confidence\": \"high\" if classification != \"unknown\" else \"low\",\n",
    "        \"entities\": entities\n",
    "    }\n",
    "\n",
    "# Classify a new document\n",
    "new_text = \"\"\"\n",
    "Account Number: 987654321\n",
    "Transaction Date: 2024-03-25\n",
    "Description: Salary deposit\n",
    "Amount: $3,000.00\n",
    "Balance: $8,500.00\n",
    "\"\"\"\n",
    "\n",
    "result = classify_document(new_text)\n",
    "print(result)\n"
   ]
  },
  {
   "cell_type": "code",
   "execution_count": 7,
   "id": "1a9c8ce0-116b-43f4-9bae-c32f24031d41",
   "metadata": {},
   "outputs": [],
   "source": [
    "# TODO load files, make embeddings, train a classifier, test it out"
   ]
  },
  {
   "cell_type": "code",
   "execution_count": null,
   "id": "2922dcdb-a1d7-4326-b767-5cff587b9c52",
   "metadata": {},
   "outputs": [],
   "source": []
  }
 ],
 "metadata": {
  "kernelspec": {
   "display_name": "Python 3 (ipykernel)",
   "language": "python",
   "name": "python3"
  },
  "language_info": {
   "codemirror_mode": {
    "name": "ipython",
    "version": 3
   },
   "file_extension": ".py",
   "mimetype": "text/x-python",
   "name": "python",
   "nbconvert_exporter": "python",
   "pygments_lexer": "ipython3",
   "version": "3.12.0"
  }
 },
 "nbformat": 4,
 "nbformat_minor": 5
}
